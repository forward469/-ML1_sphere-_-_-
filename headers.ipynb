{
 "cells": [
  {
   "cell_type": "code",
   "execution_count": 1,
   "metadata": {},
   "outputs": [],
   "source": [
    "import pandas as pd\n",
    "import numpy as np\n",
    "from bs4 import BeautifulSoup\n",
    "import os\n",
    "import re\n",
    "\n",
    "import tqdm"
   ]
  },
  {
   "cell_type": "code",
   "execution_count": 2,
   "metadata": {},
   "outputs": [],
   "source": [
    "_, _, files = next(os.walk('content/content/'))\n",
    "files = sorted(files, key = lambda x: int(x.replace('.dat', '') ))\n"
   ]
  },
  {
   "cell_type": "code",
   "execution_count": 3,
   "metadata": {},
   "outputs": [],
   "source": [
    "result  = []\n",
    "file = open('content/content/'+files[12], 'r')\n",
    "soup = BeautifulSoup(file, 'html.parser')\n",
    "file.close()\n"
   ]
  },
  {
   "cell_type": "code",
   "execution_count": 18,
   "metadata": {},
   "outputs": [],
   "source": [
    "result = []\n",
    "RE_SPACE_REMOVE = re.compile(r'\\s+')\n",
    "def get_headers(name):\n",
    "    file = open('content/content/'+name, 'r')\n",
    "    soup = BeautifulSoup(file, 'html.parser')\n",
    "    stri = ''\n",
    "    for h in [ 'h1', 'h2', 'h3']:\n",
    "        if soup.find_all(h):\n",
    "            stri += (' '.join([header.text for header in soup.find_all(h)])+' ')#.replace('\\n', '').replace('\\t', '')\n",
    "    file.close()        \n",
    "    return stri#.replace('\\n', '').replace('\\t', '')        "
   ]
  },
  {
   "cell_type": "code",
   "execution_count": 19,
   "metadata": {},
   "outputs": [
    {
     "data": {
      "text/plain": [
       "'\\n            140980 цех «Московский асц цех логистики»\\n         Цех Отделение почты 140980 на карте Почта России отслеживание Статистика отделения Статистика обработанных писем и посылок Статусы писем и посылок Предшествующие отделения Справочник отделений Почты России '"
      ]
     },
     "execution_count": 19,
     "metadata": {},
     "output_type": "execute_result"
    }
   ],
   "source": [
    "get_headers(files[27910])"
   ]
  },
  {
   "cell_type": "code",
   "execution_count": 20,
   "metadata": {},
   "outputs": [],
   "source": [
    "import ipywidgets"
   ]
  },
  {
   "cell_type": "code",
   "execution_count": 21,
   "metadata": {},
   "outputs": [],
   "source": [
    "import tqdm"
   ]
  },
  {
   "cell_type": "code",
   "execution_count": 22,
   "metadata": {},
   "outputs": [
    {
     "name": "stdout",
     "output_type": "stream",
     "text": [
      "Enabling notebook extension jupyter-js-widgets/extension...\r\n",
      "      - Validating: \u001b[32mOK\u001b[0m\r\n"
     ]
    }
   ],
   "source": [
    "!jupyter nbextension enable --py widgetsnbextension"
   ]
  },
  {
   "cell_type": "code",
   "execution_count": 59,
   "metadata": {},
   "outputs": [
    {
     "name": "stderr",
     "output_type": "stream",
     "text": [
      "/opt/miniconda3/envs/sphere-py37/lib/python3.7/site-packages/ipykernel_launcher.py:2: TqdmDeprecationWarning: This function will be removed in tqdm==5.0.0\n",
      "Please use `tqdm.notebook.tqdm` instead of `tqdm.tqdm_notebook`\n",
      "  \n"
     ]
    },
    {
     "data": {
      "application/vnd.jupyter.widget-view+json": {
       "model_id": "4ba372afef8a4a789d837ca86c0ef957",
       "version_major": 2,
       "version_minor": 0
      },
      "text/plain": [
       "HBox(children=(IntProgress(value=0, max=28024), HTML(value='')))"
      ]
     },
     "metadata": {},
     "output_type": "display_data"
    },
    {
     "name": "stdout",
     "output_type": "stream",
     "text": [
      "\n"
     ]
    }
   ],
   "source": [
    "result = []\n",
    "for name in tqdm.tqdm_notebook(files):\n",
    "#     print(name)\n",
    "    result.append([get_headers(name), name[:-4]])"
   ]
  },
  {
   "cell_type": "code",
   "execution_count": 60,
   "metadata": {},
   "outputs": [],
   "source": [
    "df = pd.DataFrame(result)"
   ]
  },
  {
   "cell_type": "code",
   "execution_count": 61,
   "metadata": {},
   "outputs": [
    {
     "data": {
      "text/plain": [
       "28024"
      ]
     },
     "execution_count": 61,
     "metadata": {},
     "output_type": "execute_result"
    }
   ],
   "source": [
    "len(df)"
   ]
  },
  {
   "cell_type": "code",
   "execution_count": 64,
   "metadata": {},
   "outputs": [
    {
     "data": {
      "text/html": [
       "<div>\n",
       "<style scoped>\n",
       "    .dataframe tbody tr th:only-of-type {\n",
       "        vertical-align: middle;\n",
       "    }\n",
       "\n",
       "    .dataframe tbody tr th {\n",
       "        vertical-align: top;\n",
       "    }\n",
       "\n",
       "    .dataframe thead th {\n",
       "        text-align: right;\n",
       "    }\n",
       "</style>\n",
       "<table border=\"1\" class=\"dataframe\">\n",
       "  <thead>\n",
       "    <tr style=\"text-align: right;\">\n",
       "      <th></th>\n",
       "      <th>0</th>\n",
       "      <th>1</th>\n",
       "    </tr>\n",
       "  </thead>\n",
       "  <tbody>\n",
       "    <tr>\n",
       "      <th>0</th>\n",
       "      <td>М. Б. Аншина Центр репродукции и генетики «Фер...</td>\n",
       "      <td>1</td>\n",
       "    </tr>\n",
       "    <tr>\n",
       "      <th>1</th>\n",
       "      <td>\\n\\tПереводы Киви кошелька \\n\\n\\n\\n \\n\\n\\t\\t\\t...</td>\n",
       "      <td>2</td>\n",
       "    </tr>\n",
       "    <tr>\n",
       "      <th>2</th>\n",
       "      <td>ПРОЕКТ ПАТРУЛИ ВРЕМЕНИ - РЕАБИЛИТАЦИЯ ДУХОВНЫХ...</td>\n",
       "      <td>3</td>\n",
       "    </tr>\n",
       "    <tr>\n",
       "      <th>3</th>\n",
       "      <td>Клуб  \" Преподавание в начальных классах\" → Бл...</td>\n",
       "      <td>4</td>\n",
       "    </tr>\n",
       "    <tr>\n",
       "      <th>4</th>\n",
       "      <td>\\n\\t\\t\\t\\tКак быстро понизить холестерин. Высо...</td>\n",
       "      <td>5</td>\n",
       "    </tr>\n",
       "    <tr>\n",
       "      <th>...</th>\n",
       "      <td>...</td>\n",
       "      <td>...</td>\n",
       "    </tr>\n",
       "    <tr>\n",
       "      <th>28019</th>\n",
       "      <td>Журнал Домашних Растений Меню Такие разные лис...</td>\n",
       "      <td>28022</td>\n",
       "    </tr>\n",
       "    <tr>\n",
       "      <th>28020</th>\n",
       "      <td>Toyota Hilux Surf 3.0 TD, SSR-G, «Бегемот» Гл...</td>\n",
       "      <td>28023</td>\n",
       "    </tr>\n",
       "    <tr>\n",
       "      <th>28021</th>\n",
       "      <td>How to download power director 14 full version...</td>\n",
       "      <td>28024</td>\n",
       "    </tr>\n",
       "    <tr>\n",
       "      <th>28022</th>\n",
       "      <td>Посоветуйте программу для монтажа видео ( бе...</td>\n",
       "      <td>28025</td>\n",
       "    </tr>\n",
       "    <tr>\n",
       "      <th>28023</th>\n",
       "      <td>Проводки для оформления госпошлины в бухучете ...</td>\n",
       "      <td>28026</td>\n",
       "    </tr>\n",
       "  </tbody>\n",
       "</table>\n",
       "<p>28024 rows × 2 columns</p>\n",
       "</div>"
      ],
      "text/plain": [
       "                                                       0      1\n",
       "0      М. Б. Аншина Центр репродукции и генетики «Фер...      1\n",
       "1      \\n\\tПереводы Киви кошелька \\n\\n\\n\\n \\n\\n\\t\\t\\t...      2\n",
       "2      ПРОЕКТ ПАТРУЛИ ВРЕМЕНИ - РЕАБИЛИТАЦИЯ ДУХОВНЫХ...      3\n",
       "3      Клуб  \" Преподавание в начальных классах\" → Бл...      4\n",
       "4      \\n\\t\\t\\t\\tКак быстро понизить холестерин. Высо...      5\n",
       "...                                                  ...    ...\n",
       "28019  Журнал Домашних Растений Меню Такие разные лис...  28022\n",
       "28020   Toyota Hilux Surf 3.0 TD, SSR-G, «Бегемот» Гл...  28023\n",
       "28021  How to download power director 14 full version...  28024\n",
       "28022    Посоветуйте программу для монтажа видео ( бе...  28025\n",
       "28023  Проводки для оформления госпошлины в бухучете ...  28026\n",
       "\n",
       "[28024 rows x 2 columns]"
      ]
     },
     "execution_count": 64,
     "metadata": {},
     "output_type": "execute_result"
    }
   ],
   "source": [
    "df"
   ]
  },
  {
   "cell_type": "code",
   "execution_count": 52,
   "metadata": {},
   "outputs": [],
   "source": [
    "df_without_empty = df.replace('', '(empty)')"
   ]
  },
  {
   "cell_type": "code",
   "execution_count": 65,
   "metadata": {},
   "outputs": [],
   "source": [
    "df.to_csv('data_headers_last.csv', sep = ';', index = 0)"
   ]
  },
  {
   "cell_type": "code",
   "execution_count": 66,
   "metadata": {},
   "outputs": [],
   "source": [
    "data = pd.read_csv('data_headers_last.csv', sep = ';')"
   ]
  },
  {
   "cell_type": "code",
   "execution_count": 67,
   "metadata": {},
   "outputs": [
    {
     "data": {
      "text/html": [
       "<div>\n",
       "<style scoped>\n",
       "    .dataframe tbody tr th:only-of-type {\n",
       "        vertical-align: middle;\n",
       "    }\n",
       "\n",
       "    .dataframe tbody tr th {\n",
       "        vertical-align: top;\n",
       "    }\n",
       "\n",
       "    .dataframe thead th {\n",
       "        text-align: right;\n",
       "    }\n",
       "</style>\n",
       "<table border=\"1\" class=\"dataframe\">\n",
       "  <thead>\n",
       "    <tr style=\"text-align: right;\">\n",
       "      <th></th>\n",
       "      <th>0</th>\n",
       "      <th>1</th>\n",
       "    </tr>\n",
       "  </thead>\n",
       "  <tbody>\n",
       "    <tr>\n",
       "      <th>0</th>\n",
       "      <td>М. Б. Аншина Центр репродукции и генетики «Фер...</td>\n",
       "      <td>1</td>\n",
       "    </tr>\n",
       "    <tr>\n",
       "      <th>1</th>\n",
       "      <td>\\n\\tПереводы Киви кошелька \\n\\n\\n\\n \\n\\n\\t\\t\\t...</td>\n",
       "      <td>2</td>\n",
       "    </tr>\n",
       "    <tr>\n",
       "      <th>2</th>\n",
       "      <td>ПРОЕКТ ПАТРУЛИ ВРЕМЕНИ - РЕАБИЛИТАЦИЯ ДУХОВНЫХ...</td>\n",
       "      <td>3</td>\n",
       "    </tr>\n",
       "    <tr>\n",
       "      <th>3</th>\n",
       "      <td>Клуб  \" Преподавание в начальных классах\" → Бл...</td>\n",
       "      <td>4</td>\n",
       "    </tr>\n",
       "    <tr>\n",
       "      <th>4</th>\n",
       "      <td>\\n\\t\\t\\t\\tКак быстро понизить холестерин. Высо...</td>\n",
       "      <td>5</td>\n",
       "    </tr>\n",
       "    <tr>\n",
       "      <th>...</th>\n",
       "      <td>...</td>\n",
       "      <td>...</td>\n",
       "    </tr>\n",
       "    <tr>\n",
       "      <th>28019</th>\n",
       "      <td>Журнал Домашних Растений Меню Такие разные лис...</td>\n",
       "      <td>28022</td>\n",
       "    </tr>\n",
       "    <tr>\n",
       "      <th>28020</th>\n",
       "      <td>Toyota Hilux Surf 3.0 TD, SSR-G, «Бегемот» Гл...</td>\n",
       "      <td>28023</td>\n",
       "    </tr>\n",
       "    <tr>\n",
       "      <th>28021</th>\n",
       "      <td>How to download power director 14 full version...</td>\n",
       "      <td>28024</td>\n",
       "    </tr>\n",
       "    <tr>\n",
       "      <th>28022</th>\n",
       "      <td>Посоветуйте программу для монтажа видео ( бе...</td>\n",
       "      <td>28025</td>\n",
       "    </tr>\n",
       "    <tr>\n",
       "      <th>28023</th>\n",
       "      <td>Проводки для оформления госпошлины в бухучете ...</td>\n",
       "      <td>28026</td>\n",
       "    </tr>\n",
       "  </tbody>\n",
       "</table>\n",
       "<p>28024 rows × 2 columns</p>\n",
       "</div>"
      ],
      "text/plain": [
       "                                                       0      1\n",
       "0      М. Б. Аншина Центр репродукции и генетики «Фер...      1\n",
       "1      \\n\\tПереводы Киви кошелька \\n\\n\\n\\n \\n\\n\\t\\t\\t...      2\n",
       "2      ПРОЕКТ ПАТРУЛИ ВРЕМЕНИ - РЕАБИЛИТАЦИЯ ДУХОВНЫХ...      3\n",
       "3      Клуб  \" Преподавание в начальных классах\" → Бл...      4\n",
       "4      \\n\\t\\t\\t\\tКак быстро понизить холестерин. Высо...      5\n",
       "...                                                  ...    ...\n",
       "28019  Журнал Домашних Растений Меню Такие разные лис...  28022\n",
       "28020   Toyota Hilux Surf 3.0 TD, SSR-G, «Бегемот» Гл...  28023\n",
       "28021  How to download power director 14 full version...  28024\n",
       "28022    Посоветуйте программу для монтажа видео ( бе...  28025\n",
       "28023  Проводки для оформления госпошлины в бухучете ...  28026\n",
       "\n",
       "[28024 rows x 2 columns]"
      ]
     },
     "execution_count": 67,
     "metadata": {},
     "output_type": "execute_result"
    }
   ],
   "source": [
    "data"
   ]
  },
  {
   "cell_type": "code",
   "execution_count": 76,
   "metadata": {},
   "outputs": [
    {
     "data": {
      "text/plain": [
       "array(['Автозапчасти ВАЗ сальники, стекла, стойки, тяги, фары, цилиндры Прайс-лист Аксессуары, Автокосметика, Автохимия Автозапчасти для отечественных автомобилей ГАЗ, УАЗ Автозапчасти для отечественных автомобилей ВАЗ Автозапчасти для иностранных автомобилей Ошиповка зимних шин Услуги эвакуатора Мы в Контакте Мы на связи МЫ на карте '],\n",
       "      dtype=object)"
      ]
     },
     "execution_count": 76,
     "metadata": {},
     "output_type": "execute_result"
    }
   ],
   "source": [
    "data[data['1'] == 15835]['0'].values"
   ]
  },
  {
   "cell_type": "code",
   "execution_count": 41,
   "metadata": {},
   "outputs": [
    {
     "data": {
      "text/html": [
       "<div>\n",
       "<style scoped>\n",
       "    .dataframe tbody tr th:only-of-type {\n",
       "        vertical-align: middle;\n",
       "    }\n",
       "\n",
       "    .dataframe tbody tr th {\n",
       "        vertical-align: top;\n",
       "    }\n",
       "\n",
       "    .dataframe thead th {\n",
       "        text-align: right;\n",
       "    }\n",
       "</style>\n",
       "<table border=\"1\" class=\"dataframe\">\n",
       "  <thead>\n",
       "    <tr style=\"text-align: right;\">\n",
       "      <th></th>\n",
       "      <th>0</th>\n",
       "    </tr>\n",
       "  </thead>\n",
       "  <tbody>\n",
       "    <tr>\n",
       "      <th>0</th>\n",
       "      <td>М. Б. Аншина Центр репродукции и генетики «Фер...</td>\n",
       "    </tr>\n",
       "    <tr>\n",
       "      <th>1</th>\n",
       "      <td>\\n\\tПереводы Киви кошелька \\n\\n\\n\\n \\n\\n\\t\\t\\t...</td>\n",
       "    </tr>\n",
       "    <tr>\n",
       "      <th>2</th>\n",
       "      <td>ПРОЕКТ ПАТРУЛИ ВРЕМЕНИ - РЕАБИЛИТАЦИЯ ДУХОВНЫХ...</td>\n",
       "    </tr>\n",
       "    <tr>\n",
       "      <th>3</th>\n",
       "      <td>Клуб  \" Преподавание в начальных классах\" → Бл...</td>\n",
       "    </tr>\n",
       "    <tr>\n",
       "      <th>4</th>\n",
       "      <td>\\n\\t\\t\\t\\tКак быстро понизить холестерин. Высо...</td>\n",
       "    </tr>\n",
       "    <tr>\n",
       "      <th>...</th>\n",
       "      <td>...</td>\n",
       "    </tr>\n",
       "    <tr>\n",
       "      <th>27966</th>\n",
       "      <td>Журнал Домашних Растений Меню Такие разные лис...</td>\n",
       "    </tr>\n",
       "    <tr>\n",
       "      <th>27967</th>\n",
       "      <td>Toyota Hilux Surf 3.0 TD, SSR-G, «Бегемот» Гл...</td>\n",
       "    </tr>\n",
       "    <tr>\n",
       "      <th>27968</th>\n",
       "      <td>How to download power director 14 full version...</td>\n",
       "    </tr>\n",
       "    <tr>\n",
       "      <th>27969</th>\n",
       "      <td>Посоветуйте программу для монтажа видео ( бе...</td>\n",
       "    </tr>\n",
       "    <tr>\n",
       "      <th>27970</th>\n",
       "      <td>Проводки для оформления госпошлины в бухучете ...</td>\n",
       "    </tr>\n",
       "  </tbody>\n",
       "</table>\n",
       "<p>27971 rows × 1 columns</p>\n",
       "</div>"
      ],
      "text/plain": [
       "                                                       0\n",
       "0      М. Б. Аншина Центр репродукции и генетики «Фер...\n",
       "1      \\n\\tПереводы Киви кошелька \\n\\n\\n\\n \\n\\n\\t\\t\\t...\n",
       "2      ПРОЕКТ ПАТРУЛИ ВРЕМЕНИ - РЕАБИЛИТАЦИЯ ДУХОВНЫХ...\n",
       "3      Клуб  \" Преподавание в начальных классах\" → Бл...\n",
       "4      \\n\\t\\t\\t\\tКак быстро понизить холестерин. Высо...\n",
       "...                                                  ...\n",
       "27966  Журнал Домашних Растений Меню Такие разные лис...\n",
       "27967   Toyota Hilux Surf 3.0 TD, SSR-G, «Бегемот» Гл...\n",
       "27968  How to download power director 14 full version...\n",
       "27969    Посоветуйте программу для монтажа видео ( бе...\n",
       "27970  Проводки для оформления госпошлины в бухучете ...\n",
       "\n",
       "[27971 rows x 1 columns]"
      ]
     },
     "execution_count": 41,
     "metadata": {},
     "output_type": "execute_result"
    }
   ],
   "source": [
    "data"
   ]
  },
  {
   "cell_type": "code",
   "execution_count": 31,
   "metadata": {},
   "outputs": [
    {
     "data": {
      "text/html": [
       "<div>\n",
       "<style scoped>\n",
       "    .dataframe tbody tr th:only-of-type {\n",
       "        vertical-align: middle;\n",
       "    }\n",
       "\n",
       "    .dataframe tbody tr th {\n",
       "        vertical-align: top;\n",
       "    }\n",
       "\n",
       "    .dataframe thead th {\n",
       "        text-align: right;\n",
       "    }\n",
       "</style>\n",
       "<table border=\"1\" class=\"dataframe\">\n",
       "  <thead>\n",
       "    <tr style=\"text-align: right;\">\n",
       "      <th></th>\n",
       "      <th>0</th>\n",
       "    </tr>\n",
       "  </thead>\n",
       "  <tbody>\n",
       "    <tr>\n",
       "      <th>0</th>\n",
       "      <td>М. Б. Аншина Центр репродукции и генетики «Фер...</td>\n",
       "    </tr>\n",
       "    <tr>\n",
       "      <th>1</th>\n",
       "      <td>\\n\\tПереводы Киви кошелька \\n\\n\\n\\n \\n\\n\\t\\t\\t...</td>\n",
       "    </tr>\n",
       "    <tr>\n",
       "      <th>2</th>\n",
       "      <td>ПРОЕКТ ПАТРУЛИ ВРЕМЕНИ - РЕАБИЛИТАЦИЯ ДУХОВНЫХ...</td>\n",
       "    </tr>\n",
       "    <tr>\n",
       "      <th>3</th>\n",
       "      <td>Клуб  \" Преподавание в начальных классах\" → Бл...</td>\n",
       "    </tr>\n",
       "    <tr>\n",
       "      <th>4</th>\n",
       "      <td>\\n\\t\\t\\t\\tКак быстро понизить холестерин. Высо...</td>\n",
       "    </tr>\n",
       "    <tr>\n",
       "      <th>...</th>\n",
       "      <td>...</td>\n",
       "    </tr>\n",
       "    <tr>\n",
       "      <th>27966</th>\n",
       "      <td>Журнал Домашних Растений Меню Такие разные лис...</td>\n",
       "    </tr>\n",
       "    <tr>\n",
       "      <th>27967</th>\n",
       "      <td>Toyota Hilux Surf 3.0 TD, SSR-G, «Бегемот» Гл...</td>\n",
       "    </tr>\n",
       "    <tr>\n",
       "      <th>27968</th>\n",
       "      <td>How to download power director 14 full version...</td>\n",
       "    </tr>\n",
       "    <tr>\n",
       "      <th>27969</th>\n",
       "      <td>Посоветуйте программу для монтажа видео ( бе...</td>\n",
       "    </tr>\n",
       "    <tr>\n",
       "      <th>27970</th>\n",
       "      <td>Проводки для оформления госпошлины в бухучете ...</td>\n",
       "    </tr>\n",
       "  </tbody>\n",
       "</table>\n",
       "<p>27971 rows × 1 columns</p>\n",
       "</div>"
      ],
      "text/plain": [
       "                                                       0\n",
       "0      М. Б. Аншина Центр репродукции и генетики «Фер...\n",
       "1      \\n\\tПереводы Киви кошелька \\n\\n\\n\\n \\n\\n\\t\\t\\t...\n",
       "2      ПРОЕКТ ПАТРУЛИ ВРЕМЕНИ - РЕАБИЛИТАЦИЯ ДУХОВНЫХ...\n",
       "3      Клуб  \" Преподавание в начальных классах\" → Бл...\n",
       "4      \\n\\t\\t\\t\\tКак быстро понизить холестерин. Высо...\n",
       "...                                                  ...\n",
       "27966  Журнал Домашних Растений Меню Такие разные лис...\n",
       "27967   Toyota Hilux Surf 3.0 TD, SSR-G, «Бегемот» Гл...\n",
       "27968  How to download power director 14 full version...\n",
       "27969    Посоветуйте программу для монтажа видео ( бе...\n",
       "27970  Проводки для оформления госпошлины в бухучете ...\n",
       "\n",
       "[27971 rows x 1 columns]"
      ]
     },
     "execution_count": 31,
     "metadata": {},
     "output_type": "execute_result"
    }
   ],
   "source": [
    "data"
   ]
  },
  {
   "cell_type": "code",
   "execution_count": null,
   "metadata": {},
   "outputs": [],
   "source": []
  }
 ],
 "metadata": {
  "kernelspec": {
   "display_name": "Python 3",
   "language": "python",
   "name": "python3"
  },
  "language_info": {
   "codemirror_mode": {
    "name": "ipython",
    "version": 3
   },
   "file_extension": ".py",
   "mimetype": "text/x-python",
   "name": "python",
   "nbconvert_exporter": "python",
   "pygments_lexer": "ipython3",
   "version": "3.7.5"
  }
 },
 "nbformat": 4,
 "nbformat_minor": 2
}
